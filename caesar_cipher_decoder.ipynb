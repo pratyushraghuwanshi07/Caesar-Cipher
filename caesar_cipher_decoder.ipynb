{
 "cells": [
  {
   "cell_type": "code",
   "execution_count": 10,
   "metadata": {},
   "outputs": [
    {
     "name": "stdout",
     "output_type": "stream",
     "text": [
      "Enter Encrypted Text: cenglhfu\n",
      "Enter key in integer format: 13\n",
      "Plain Text :  pratyush\n"
     ]
    }
   ],
   "source": [
    "#Caesar Cipher Decoder\n",
    "\n",
    "def decode(encrypted_text,key):\n",
    "    plaintext = ''\n",
    "    size = len(encrypted_text)\n",
    "    for i in range(0,size):\n",
    "        single_char = encrypted_text[i]\n",
    "        if (single_char.isupper()):\n",
    "            plaintext += chr((ord(single_char) + 26-key-65)% 26+65)\n",
    "        else:\n",
    "            plaintext += chr((ord(single_char) + 26-key-97)% 26+97)\n",
    "    return plaintext\n",
    "encrypted_text = input(\"Enter Encrypted Text: \")\n",
    "key = int(input(\"Enter key in integer format: \"))\n",
    "print(\"Plain Text : \",decode(encrypted_text,key))"
   ]
  },
  {
   "cell_type": "code",
   "execution_count": null,
   "metadata": {},
   "outputs": [],
   "source": []
  }
 ],
 "metadata": {
  "kernelspec": {
   "display_name": "Python 3",
   "language": "python",
   "name": "python3"
  },
  "language_info": {
   "codemirror_mode": {
    "name": "ipython",
    "version": 3
   },
   "file_extension": ".py",
   "mimetype": "text/x-python",
   "name": "python",
   "nbconvert_exporter": "python",
   "pygments_lexer": "ipython3",
   "version": "3.8.5"
  }
 },
 "nbformat": 4,
 "nbformat_minor": 4
}
