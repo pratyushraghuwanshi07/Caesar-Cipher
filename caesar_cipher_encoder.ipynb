{
 "cells": [
  {
   "cell_type": "code",
   "execution_count": null,
   "metadata": {},
   "outputs": [],
   "source": [
    "#Caesar Cipher Encoder\n",
    "\n",
    "def encode(plaintext,key):\n",
    "    encrypted_text = ''\n",
    "    size = len(plaintext)\n",
    "    for i in range(0,size):\n",
    "        single_char = plaintext[i]\n",
    "        if (single_char.isupper()):\n",
    "            encrypted_text += chr((ord(single_char) + key-65)% 26+65)\n",
    "        else:\n",
    "            encrypted_text += chr((ord(single_char) + key-97)% 26+97)\n",
    "    return encrypted_text\n",
    "plaintext = input(\"Enter Plain Text: \")\n",
    "key = int(input(\"Enter key in integer format: \"))\n",
    "print(\"Encrypted Text : \",encode(plaintext,key))"
   ]
  },
  {
   "cell_type": "code",
   "execution_count": null,
   "metadata": {},
   "outputs": [],
   "source": []
  },
  {
   "cell_type": "code",
   "execution_count": null,
   "metadata": {},
   "outputs": [],
   "source": []
  }
 ],
 "metadata": {
  "kernelspec": {
   "display_name": "Python 3",
   "language": "python",
   "name": "python3"
  },
  "language_info": {
   "codemirror_mode": {
    "name": "ipython",
    "version": 3
   },
   "file_extension": ".py",
   "mimetype": "text/x-python",
   "name": "python",
   "nbconvert_exporter": "python",
   "pygments_lexer": "ipython3",
   "version": "3.8.5"
  }
 },
 "nbformat": 4,
 "nbformat_minor": 4
}
